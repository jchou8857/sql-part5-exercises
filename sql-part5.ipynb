{
    "metadata": {
        "kernelspec": {
            "name": "SQL",
            "display_name": "SQL",
            "language": "sql"
        },
        "language_info": {
            "name": "sql",
            "version": ""
        }
    },
    "nbformat_minor": 2,
    "nbformat": 4,
    "cells": [
        {
            "cell_type": "markdown",
            "source": [
                "# Exercises: Creating, Updating, and Destroying Objects\n",
                "\n",
                "For the exercises, you will be working with objects and data you create. Before opening this notebook, make sure that you have set up the new connection to the server and that you have located the database and your schema.\n",
                "\n",
                "## Object Creation\n",
                "\n",
                "Before coding, think of three things you want to make. These could be coding projects, new recipes, or planned projects for a woodworking hobby. Brainstorm the appropriate column names and data types as well.\n",
                "\n",
                "Create a table under your schema called `planned_makes`."
            ],
            "metadata": {
                "azdata_cell_guid": "9d51c166-0c19-4f27-a422-2a6cf596bfb2"
            },
            "attachments": {}
        },
        {
            "cell_type": "code",
            "source": [
                "CREATE TABLE JunkDB_STL_Sept2022.joycec.planned_makes (\r\n",
                "    Id INT PRIMARY KEY IDENTITY (1,1),\r\n",
                "    Date_Entered DATE,\r\n",
                "    Date_Started DATE,\r\n",
                "    Project_Name VARCHAR (100) NOT NULL,\r\n",
                "    Project_Type VARCHAR (100) NOT NULL,\r\n",
                "    Planned_Yarn VARCHAR (500),\r\n",
                ")\r\n",
                ""
            ],
            "metadata": {
                "azdata_cell_guid": "d9238911-6f81-4f01-980d-b584307effaf",
                "language": "sql",
                "tags": []
            },
            "outputs": [
                {
                    "output_type": "display_data",
                    "data": {
                        "text/html": "Commands completed successfully."
                    },
                    "metadata": {}
                },
                {
                    "output_type": "display_data",
                    "data": {
                        "text/html": "Total execution time: 00:00:00.056"
                    },
                    "metadata": {}
                }
            ],
            "execution_count": 8
        },
        {
            "cell_type": "code",
            "source": [
                "SELECT *\r\n",
                "FROM JunkDB_STL_Sept2022.joycec.planned_makes"
            ],
            "metadata": {
                "azdata_cell_guid": "bae60dd8-3ce0-4c85-be60-6067b1c2c33d",
                "language": "sql"
            },
            "outputs": [
                {
                    "output_type": "display_data",
                    "data": {
                        "text/html": "(0 rows affected)"
                    },
                    "metadata": {}
                },
                {
                    "output_type": "display_data",
                    "data": {
                        "text/html": "Total execution time: 00:00:00.059"
                    },
                    "metadata": {}
                },
                {
                    "output_type": "execute_result",
                    "metadata": {},
                    "execution_count": 3,
                    "data": {
                        "application/vnd.dataresource+json": {
                            "schema": {
                                "fields": [
                                    {
                                        "name": "Id"
                                    },
                                    {
                                        "name": "Date_Entered"
                                    },
                                    {
                                        "name": "Date_Started"
                                    },
                                    {
                                        "name": "Project_Name"
                                    },
                                    {
                                        "name": "Project_Type"
                                    },
                                    {
                                        "name": "Planned_Yarn"
                                    }
                                ]
                            },
                            "data": []
                        },
                        "text/html": [
                            "<table>",
                            "<tr><th>Id</th><th>Date_Entered</th><th>Date_Started</th><th>Project_Name</th><th>Project_Type</th><th>Planned_Yarn</th></tr>",
                            "</table>"
                        ]
                    }
                }
            ],
            "execution_count": 3
        },
        {
            "cell_type": "markdown",
            "source": [
                "Add three rows to your table that are your planned makes."
            ],
            "metadata": {
                "azdata_cell_guid": "83cdf34d-8c4f-4fa1-a14e-77384b19d734"
            }
        },
        {
            "cell_type": "code",
            "source": [
                "INSERT INTO JunkDB_STL_Sept2022.joycec.planned_makes (Project_Name, Project_Type, Planned_Yarn)\r\n",
                "VALUES ('Amethyst Mittens', 'Hands: Mittens, Gloves', 'Jo Sharp Classic DK Wool, 008 Aubergine')\r\n",
                ""
            ],
            "metadata": {
                "azdata_cell_guid": "e7cff9cb-87ba-4c7b-98f2-eaf445e8719c",
                "language": "sql",
                "tags": []
            },
            "outputs": [
                {
                    "output_type": "display_data",
                    "data": {
                        "text/html": "(1 row affected)"
                    },
                    "metadata": {}
                },
                {
                    "output_type": "display_data",
                    "data": {
                        "text/html": "Total execution time: 00:00:00.059"
                    },
                    "metadata": {}
                }
            ],
            "execution_count": 4
        },
        {
            "cell_type": "code",
            "source": [
                "SELECT *\r\n",
                "FROM JunkDB_STL_Sept2022.joycec.planned_makes"
            ],
            "metadata": {
                "azdata_cell_guid": "521d23a0-95e0-4896-886d-c07f862fc0a5",
                "language": "sql",
                "tags": []
            },
            "outputs": [
                {
                    "output_type": "display_data",
                    "data": {
                        "text/html": "(1 row affected)"
                    },
                    "metadata": {}
                },
                {
                    "output_type": "display_data",
                    "data": {
                        "text/html": "Total execution time: 00:00:00.055"
                    },
                    "metadata": {}
                },
                {
                    "output_type": "execute_result",
                    "metadata": {},
                    "execution_count": 5,
                    "data": {
                        "application/vnd.dataresource+json": {
                            "schema": {
                                "fields": [
                                    {
                                        "name": "Id"
                                    },
                                    {
                                        "name": "Date_Entered"
                                    },
                                    {
                                        "name": "Date_Started"
                                    },
                                    {
                                        "name": "Project_Name"
                                    },
                                    {
                                        "name": "Project_Type"
                                    },
                                    {
                                        "name": "Planned_Yarn"
                                    }
                                ]
                            },
                            "data": [
                                {
                                    "0": "1",
                                    "1": "NULL",
                                    "2": "NULL",
                                    "3": "Amethyst Mittens",
                                    "4": "Hands: Mittens, Gloves",
                                    "5": "Jo Sharp Classic DK Wool, 008 Aubergine"
                                }
                            ]
                        },
                        "text/html": [
                            "<table>",
                            "<tr><th>Id</th><th>Date_Entered</th><th>Date_Started</th><th>Project_Name</th><th>Project_Type</th><th>Planned_Yarn</th></tr>",
                            "<tr><td>1</td><td>NULL</td><td>NULL</td><td>Amethyst Mittens</td><td>Hands: Mittens, Gloves</td><td>Jo Sharp Classic DK Wool, 008 Aubergine</td></tr>",
                            "</table>"
                        ]
                    }
                }
            ],
            "execution_count": 5
        },
        {
            "cell_type": "code",
            "source": [
                "INSERT INTO JunkDB_STL_Sept2022.joycec.planned_makes (Date_Entered, Project_Name, Project_Type, Planned_Yarn)\r\n",
                "VALUES ('2015-12-03', 'Still Light Tunic Dress', 'Dress', 'Yarn Geek Fibers Super Geek, Vera Rubin')"
            ],
            "metadata": {
                "azdata_cell_guid": "e38c733d-e58d-4652-b72c-bec1985a5873",
                "language": "sql"
            },
            "outputs": [
                {
                    "output_type": "display_data",
                    "data": {
                        "text/html": "(1 row affected)"
                    },
                    "metadata": {}
                },
                {
                    "output_type": "display_data",
                    "data": {
                        "text/html": "Total execution time: 00:00:00.055"
                    },
                    "metadata": {}
                }
            ],
            "execution_count": 6
        },
        {
            "cell_type": "code",
            "source": [
                "SELECT *\r\n",
                "FROM JunkDB_STL_Sept2022.joycec.planned_makes"
            ],
            "metadata": {
                "azdata_cell_guid": "c1c10b75-aa90-4e69-99f5-9f832a4f36a1",
                "language": "sql"
            },
            "outputs": [
                {
                    "output_type": "display_data",
                    "data": {
                        "text/html": "(2 rows affected)"
                    },
                    "metadata": {}
                },
                {
                    "output_type": "display_data",
                    "data": {
                        "text/html": "Total execution time: 00:00:00.053"
                    },
                    "metadata": {}
                },
                {
                    "output_type": "execute_result",
                    "metadata": {},
                    "execution_count": 7,
                    "data": {
                        "application/vnd.dataresource+json": {
                            "schema": {
                                "fields": [
                                    {
                                        "name": "Id"
                                    },
                                    {
                                        "name": "Date_Entered"
                                    },
                                    {
                                        "name": "Date_Started"
                                    },
                                    {
                                        "name": "Project_Name"
                                    },
                                    {
                                        "name": "Project_Type"
                                    },
                                    {
                                        "name": "Planned_Yarn"
                                    }
                                ]
                            },
                            "data": [
                                {
                                    "0": "1",
                                    "1": "NULL",
                                    "2": "NULL",
                                    "3": "Amethyst Mittens",
                                    "4": "Hands: Mittens, Gloves",
                                    "5": "Jo Sharp Classic DK Wool, 008 Aubergine"
                                },
                                {
                                    "0": "2",
                                    "1": "2015-12-03",
                                    "2": "NULL",
                                    "3": "Still Light Tunic Dress",
                                    "4": "Dress",
                                    "5": "Yarn Geek Fibers Super Geek, Vera Rubin"
                                }
                            ]
                        },
                        "text/html": [
                            "<table>",
                            "<tr><th>Id</th><th>Date_Entered</th><th>Date_Started</th><th>Project_Name</th><th>Project_Type</th><th>Planned_Yarn</th></tr>",
                            "<tr><td>1</td><td>NULL</td><td>NULL</td><td>Amethyst Mittens</td><td>Hands: Mittens, Gloves</td><td>Jo Sharp Classic DK Wool, 008 Aubergine</td></tr>",
                            "<tr><td>2</td><td>2015-12-03</td><td>NULL</td><td>Still Light Tunic Dress</td><td>Dress</td><td>Yarn Geek Fibers Super Geek, Vera Rubin</td></tr>",
                            "</table>"
                        ]
                    }
                }
            ],
            "execution_count": 7
        },
        {
            "cell_type": "code",
            "source": [
                "INSERT INTO JunkDB_STL_Sept2022.joycec.planned_makes (Date_Entered, Project_Name, Project_Type, Planned_Yarn)\r\n",
                "VALUES ('2020-12-29', 'Sumile Cardigan', 'Torso: Sweaters, Cardigans, Vests', 'Shibui Knits Cima, 2018 Bordeaux')"
            ],
            "metadata": {
                "azdata_cell_guid": "7ec72d37-dfaa-4a3d-ab11-33e985f7fb85",
                "language": "sql"
            },
            "outputs": [
                {
                    "output_type": "display_data",
                    "data": {
                        "text/html": "(1 row affected)"
                    },
                    "metadata": {}
                },
                {
                    "output_type": "display_data",
                    "data": {
                        "text/html": "Total execution time: 00:00:00.054"
                    },
                    "metadata": {}
                }
            ],
            "execution_count": 8
        },
        {
            "cell_type": "code",
            "source": [
                "SELECT *\r\n",
                "FROM JunkDB_STL_Sept2022.joycec.planned_makes"
            ],
            "metadata": {
                "azdata_cell_guid": "31dddd63-8cd2-44cb-8779-df9d1b279719",
                "language": "sql"
            },
            "outputs": [
                {
                    "output_type": "display_data",
                    "data": {
                        "text/html": "(3 rows affected)"
                    },
                    "metadata": {}
                },
                {
                    "output_type": "display_data",
                    "data": {
                        "text/html": "Total execution time: 00:00:00.053"
                    },
                    "metadata": {}
                },
                {
                    "output_type": "execute_result",
                    "metadata": {},
                    "execution_count": 10,
                    "data": {
                        "application/vnd.dataresource+json": {
                            "schema": {
                                "fields": [
                                    {
                                        "name": "Id"
                                    },
                                    {
                                        "name": "Date_Entered"
                                    },
                                    {
                                        "name": "Date_Started"
                                    },
                                    {
                                        "name": "Project_Name"
                                    },
                                    {
                                        "name": "Project_Type"
                                    },
                                    {
                                        "name": "Planned_Yarn"
                                    }
                                ]
                            },
                            "data": [
                                {
                                    "0": "1",
                                    "1": "NULL",
                                    "2": "NULL",
                                    "3": "Amethyst Mittens",
                                    "4": "Hands: Mittens, Gloves",
                                    "5": "Jo Sharp Classic DK Wool, 008 Aubergine"
                                },
                                {
                                    "0": "2",
                                    "1": "2015-12-03",
                                    "2": "NULL",
                                    "3": "Still Light Tunic Dress",
                                    "4": "Dress",
                                    "5": "Yarn Geek Fibers Super Geek, Vera Rubin"
                                },
                                {
                                    "0": "3",
                                    "1": "2020-12-29",
                                    "2": "NULL",
                                    "3": "Sumile Cardigan",
                                    "4": "Torso: Sweaters, Cardigans, Vests",
                                    "5": "Shibui Knits Cima, 2018 Bordeaux"
                                }
                            ]
                        },
                        "text/html": [
                            "<table>",
                            "<tr><th>Id</th><th>Date_Entered</th><th>Date_Started</th><th>Project_Name</th><th>Project_Type</th><th>Planned_Yarn</th></tr>",
                            "<tr><td>1</td><td>NULL</td><td>NULL</td><td>Amethyst Mittens</td><td>Hands: Mittens, Gloves</td><td>Jo Sharp Classic DK Wool, 008 Aubergine</td></tr>",
                            "<tr><td>2</td><td>2015-12-03</td><td>NULL</td><td>Still Light Tunic Dress</td><td>Dress</td><td>Yarn Geek Fibers Super Geek, Vera Rubin</td></tr>",
                            "<tr><td>3</td><td>2020-12-29</td><td>NULL</td><td>Sumile Cardigan</td><td>Torso: Sweaters, Cardigans, Vests</td><td>Shibui Knits Cima, 2018 Bordeaux</td></tr>",
                            "</table>"
                        ]
                    }
                }
            ],
            "execution_count": 10
        },
        {
            "cell_type": "markdown",
            "source": [
                "## Update a Row\n",
                "\n",
                "Change different values in one of your three rows."
            ],
            "metadata": {
                "azdata_cell_guid": "4a39b8d4-ae97-4e09-8336-c5fc6a00d76c"
            },
            "attachments": {}
        },
        {
            "cell_type": "code",
            "source": [
                "UPDATE JunkDB_STL_Sept2022.joycec.planned_makes\r\n",
                "SET Date_Entered = '2022-09-08'\r\n",
                "WHERE Project_Name = 'Amethyst Mittens'"
            ],
            "metadata": {
                "azdata_cell_guid": "7409c695-9581-4ad8-b03a-574d2c4c87cb",
                "language": "sql"
            },
            "outputs": [
                {
                    "output_type": "display_data",
                    "data": {
                        "text/html": "(1 row affected)"
                    },
                    "metadata": {}
                },
                {
                    "output_type": "display_data",
                    "data": {
                        "text/html": "Total execution time: 00:00:00.059"
                    },
                    "metadata": {}
                }
            ],
            "execution_count": 11
        },
        {
            "cell_type": "code",
            "source": [
                "SELECT *\r\n",
                "FROM JunkDB_STL_Sept2022.joycec.planned_makes"
            ],
            "metadata": {
                "azdata_cell_guid": "596215ef-8de6-4b4b-bb93-c0c963da644d",
                "language": "sql"
            },
            "outputs": [
                {
                    "output_type": "display_data",
                    "data": {
                        "text/html": "(3 rows affected)"
                    },
                    "metadata": {}
                },
                {
                    "output_type": "display_data",
                    "data": {
                        "text/html": "Total execution time: 00:00:00.053"
                    },
                    "metadata": {}
                },
                {
                    "output_type": "execute_result",
                    "metadata": {},
                    "execution_count": 12,
                    "data": {
                        "application/vnd.dataresource+json": {
                            "schema": {
                                "fields": [
                                    {
                                        "name": "Id"
                                    },
                                    {
                                        "name": "Date_Entered"
                                    },
                                    {
                                        "name": "Date_Started"
                                    },
                                    {
                                        "name": "Project_Name"
                                    },
                                    {
                                        "name": "Project_Type"
                                    },
                                    {
                                        "name": "Planned_Yarn"
                                    }
                                ]
                            },
                            "data": [
                                {
                                    "0": "1",
                                    "1": "2022-09-08",
                                    "2": "NULL",
                                    "3": "Amethyst Mittens",
                                    "4": "Hands: Mittens, Gloves",
                                    "5": "Jo Sharp Classic DK Wool, 008 Aubergine"
                                },
                                {
                                    "0": "2",
                                    "1": "2015-12-03",
                                    "2": "NULL",
                                    "3": "Still Light Tunic Dress",
                                    "4": "Dress",
                                    "5": "Yarn Geek Fibers Super Geek, Vera Rubin"
                                },
                                {
                                    "0": "3",
                                    "1": "2020-12-29",
                                    "2": "NULL",
                                    "3": "Sumile Cardigan",
                                    "4": "Torso: Sweaters, Cardigans, Vests",
                                    "5": "Shibui Knits Cima, 2018 Bordeaux"
                                }
                            ]
                        },
                        "text/html": [
                            "<table>",
                            "<tr><th>Id</th><th>Date_Entered</th><th>Date_Started</th><th>Project_Name</th><th>Project_Type</th><th>Planned_Yarn</th></tr>",
                            "<tr><td>1</td><td>2022-09-08</td><td>NULL</td><td>Amethyst Mittens</td><td>Hands: Mittens, Gloves</td><td>Jo Sharp Classic DK Wool, 008 Aubergine</td></tr>",
                            "<tr><td>2</td><td>2015-12-03</td><td>NULL</td><td>Still Light Tunic Dress</td><td>Dress</td><td>Yarn Geek Fibers Super Geek, Vera Rubin</td></tr>",
                            "<tr><td>3</td><td>2020-12-29</td><td>NULL</td><td>Sumile Cardigan</td><td>Torso: Sweaters, Cardigans, Vests</td><td>Shibui Knits Cima, 2018 Bordeaux</td></tr>",
                            "</table>"
                        ]
                    }
                }
            ],
            "execution_count": 12
        },
        {
            "cell_type": "markdown",
            "source": [
                "## Delete a Row\n",
                "\n",
                "Delete one of the rows from your table."
            ],
            "metadata": {
                "azdata_cell_guid": "95e91a6e-9038-42d9-9401-5738842aba17"
            }
        },
        {
            "cell_type": "code",
            "source": [
                "DELETE FROM JunkDB_STL_Sept2022.joycec.planned_makes\r\n",
                "WHERE Project_Name = 'Still Light Tunic Dress'"
            ],
            "metadata": {
                "azdata_cell_guid": "749c748f-19b5-4c69-9004-b6b20216616a",
                "language": "sql"
            },
            "outputs": [
                {
                    "output_type": "display_data",
                    "data": {
                        "text/html": "(1 row affected)"
                    },
                    "metadata": {}
                },
                {
                    "output_type": "display_data",
                    "data": {
                        "text/html": "Total execution time: 00:00:00.055"
                    },
                    "metadata": {}
                }
            ],
            "execution_count": 13
        },
        {
            "cell_type": "code",
            "source": [
                "SELECT *\r\n",
                "FROM JunkDB_STL_Sept2022.joycec.planned_makes"
            ],
            "metadata": {
                "azdata_cell_guid": "2fbb1b59-67af-4e80-b718-ac7df0c2b0ac",
                "language": "sql"
            },
            "outputs": [
                {
                    "output_type": "display_data",
                    "data": {
                        "text/html": "(2 rows affected)"
                    },
                    "metadata": {}
                },
                {
                    "output_type": "display_data",
                    "data": {
                        "text/html": "Total execution time: 00:00:00.055"
                    },
                    "metadata": {}
                },
                {
                    "output_type": "execute_result",
                    "metadata": {},
                    "execution_count": 14,
                    "data": {
                        "application/vnd.dataresource+json": {
                            "schema": {
                                "fields": [
                                    {
                                        "name": "Id"
                                    },
                                    {
                                        "name": "Date_Entered"
                                    },
                                    {
                                        "name": "Date_Started"
                                    },
                                    {
                                        "name": "Project_Name"
                                    },
                                    {
                                        "name": "Project_Type"
                                    },
                                    {
                                        "name": "Planned_Yarn"
                                    }
                                ]
                            },
                            "data": [
                                {
                                    "0": "1",
                                    "1": "2022-09-08",
                                    "2": "NULL",
                                    "3": "Amethyst Mittens",
                                    "4": "Hands: Mittens, Gloves",
                                    "5": "Jo Sharp Classic DK Wool, 008 Aubergine"
                                },
                                {
                                    "0": "3",
                                    "1": "2020-12-29",
                                    "2": "NULL",
                                    "3": "Sumile Cardigan",
                                    "4": "Torso: Sweaters, Cardigans, Vests",
                                    "5": "Shibui Knits Cima, 2018 Bordeaux"
                                }
                            ]
                        },
                        "text/html": [
                            "<table>",
                            "<tr><th>Id</th><th>Date_Entered</th><th>Date_Started</th><th>Project_Name</th><th>Project_Type</th><th>Planned_Yarn</th></tr>",
                            "<tr><td>1</td><td>2022-09-08</td><td>NULL</td><td>Amethyst Mittens</td><td>Hands: Mittens, Gloves</td><td>Jo Sharp Classic DK Wool, 008 Aubergine</td></tr>",
                            "<tr><td>3</td><td>2020-12-29</td><td>NULL</td><td>Sumile Cardigan</td><td>Torso: Sweaters, Cardigans, Vests</td><td>Shibui Knits Cima, 2018 Bordeaux</td></tr>",
                            "</table>"
                        ]
                    }
                }
            ],
            "execution_count": 14
        },
        {
            "cell_type": "markdown",
            "source": [
                "## Drop the Table\n",
                "\n",
                "While this has been fun, it is time to drop the table!"
            ],
            "metadata": {
                "azdata_cell_guid": "2239cb09-137b-4579-905b-1aa020793181"
            },
            "attachments": {}
        },
        {
            "cell_type": "code",
            "source": [
                "DROP TABLE JunkDB_STL_Sept2022.joycec.planned_makes"
            ],
            "metadata": {
                "azdata_cell_guid": "b3c7f6ea-ee26-46b3-9c2a-2f7a82c39699",
                "language": "sql"
            },
            "outputs": [
                {
                    "output_type": "display_data",
                    "data": {
                        "text/html": "Commands completed successfully."
                    },
                    "metadata": {}
                },
                {
                    "output_type": "display_data",
                    "data": {
                        "text/html": "Total execution time: 00:00:00.058"
                    },
                    "metadata": {}
                }
            ],
            "execution_count": 15
        },
        {
            "cell_type": "code",
            "source": [
                "SELECT *\r\n",
                "FROM JunkDB_STL_Sept2022.joycec.planned_makes"
            ],
            "metadata": {
                "azdata_cell_guid": "42426e83-f1c4-4992-8cf8-e0505917527a",
                "language": "sql"
            },
            "outputs": [
                {
                    "output_type": "error",
                    "evalue": "Msg 208, Level 16, State 1, Line 1\r\nInvalid object name 'JunkDB_STL_Sept2022.joycec.planned_makes'.",
                    "ename": "",
                    "traceback": []
                },
                {
                    "output_type": "display_data",
                    "data": {
                        "text/html": "Total execution time: 00:00:00.052"
                    },
                    "metadata": {}
                }
            ],
            "execution_count": 16
        }
    ]
}